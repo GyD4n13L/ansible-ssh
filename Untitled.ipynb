{
 "cells": [
  {
   "cell_type": "markdown",
   "metadata": {},
   "source": [
    "# qEOIUFHWefuiohawlkerjfhqwlkejrfhlkqwjhef\n",
    "qwelkfhqlwkjehflqkwjheflqwkjehfqwef\n",
    "qwef"
   ]
  },
  {
   "cell_type": "code",
   "execution_count": 3,
   "metadata": {},
   "outputs": [],
   "source": [
    "%%bash\n",
    "cat <<EOF> valami.yml\n",
    "---\n",
    "- hosts: all\n",
    "  remote_user: sis\n",
    "  tasks:\n",
    "\n",
    "  - name: ssh key feltöltése\n",
    "    authorized_key:\n",
    "      user: sis\n",
    "      state: present\n",
    "      manage_dir: yes\n",
    "      key: https://github.com/englert.keys\n",
    "\n",
    "\n",
    "  - name:  Legyen sudo csoport\n",
    "    group:\n",
    "      name: sudo\n",
    "      state: present\n",
    "\n",
    "  - name: A sudo csoport felhasználói jelszó nélkül használhatják a sudo-t.\n",
    "    template:\n",
    "      src: 95-sudo-group.j2\n",
    "      dest: /etc/sudoers.d/95-sudo-group\n",
    "      mode: 0440\n",
    "EOF\n"
   ]
  },
  {
   "cell_type": "code",
   "execution_count": null,
   "metadata": {},
   "outputs": [],
   "source": []
  }
 ],
 "metadata": {
  "kernelspec": {
   "display_name": "Python 3",
   "language": "python",
   "name": "python3"
  },
  "language_info": {
   "codemirror_mode": {
    "name": "ipython",
    "version": 3
   },
   "file_extension": ".py",
   "mimetype": "text/x-python",
   "name": "python",
   "nbconvert_exporter": "python",
   "pygments_lexer": "ipython3",
   "version": "3.5.2"
  }
 },
 "nbformat": 4,
 "nbformat_minor": 2
}
